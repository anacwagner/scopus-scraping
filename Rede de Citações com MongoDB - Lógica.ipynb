{
 "cells": [
  {
   "cell_type": "code",
   "execution_count": 1,
   "metadata": {},
   "outputs": [
    {
     "data": {
      "text/html": [
       "<script>requirejs.config({paths: { 'plotly': ['https://cdn.plot.ly/plotly-latest.min']},});if(!window.Plotly) {{require(['plotly'],function(plotly) {window.Plotly=plotly;});}}</script>"
      ],
      "text/vnd.plotly.v1+html": [
       "<script>requirejs.config({paths: { 'plotly': ['https://cdn.plot.ly/plotly-latest.min']},});if(!window.Plotly) {{require(['plotly'],function(plotly) {window.Plotly=plotly;});}}</script>"
      ]
     },
     "metadata": {},
     "output_type": "display_data"
    },
    {
     "name": "stdout",
     "output_type": "stream",
     "text": [
      "C:\\Users\\Walter\\Documents\\WOS_CitationNetworks\n"
     ]
    }
   ],
   "source": [
    "# CARREGANDO BIBLIOTECAS\n",
    "import pymongo\n",
    "from pymongo import MongoClient\n",
    "import pandas as pd\n",
    "import os\n",
    "\n",
    "import networkx as nx\n",
    "\n",
    "import pickle\n",
    "import gc\n",
    "from tqdm import tqdm_notebook as tqdm\n",
    "\n",
    "path_atual = os.getcwd()\n",
    "print(path_atual)\n",
    "path_download = '../../Downloads/'"
   ]
  },
  {
   "cell_type": "code",
   "execution_count": 2,
   "metadata": {
    "collapsed": true
   },
   "outputs": [],
   "source": [
    "category = 'LOGIC'"
   ]
  },
  {
   "cell_type": "markdown",
   "metadata": {},
   "source": [
    "## 1. Importando os dados. Criando os banco de dados."
   ]
  },
  {
   "cell_type": "code",
   "execution_count": 3,
   "metadata": {
    "collapsed": true
   },
   "outputs": [],
   "source": [
    "# CONEXÃO\n",
    "client = MongoClient('mongodb://localhost:27017')"
   ]
  },
  {
   "cell_type": "code",
   "execution_count": 4,
   "metadata": {},
   "outputs": [
    {
     "data": {
      "text/plain": [
       "Database(MongoClient(host=['localhost:27017'], document_class=dict, tz_aware=False, connect=True), 'CitationsNetwork_LOGIC')"
      ]
     },
     "execution_count": 4,
     "metadata": {},
     "output_type": "execute_result"
    }
   ],
   "source": [
    "# SELECIONANDO UM BANCO\n",
    "db = client.CitationsNetwork_LOGIC\n",
    "db"
   ]
  },
  {
   "cell_type": "code",
   "execution_count": 5,
   "metadata": {
    "collapsed": true
   },
   "outputs": [],
   "source": [
    "# ARTIGOS E PERIÓDICOS DE ORIGEM\n",
    "with open('pickles/' + category + '_INFOS.pickle', 'rb') as f:\n",
    "    [info_articles, info_journals] = pickle.load(f)"
   ]
  },
  {
   "cell_type": "code",
   "execution_count": 6,
   "metadata": {},
   "outputs": [
    {
     "name": "stdout",
     "output_type": "stream",
     "text": [
      "Total de Artigos publicados na subárea Lógica da Matemática: 18718.\n",
      "Total de Periódicos publicáveis na subárea Lógica da Matemática: 18.\n"
     ]
    }
   ],
   "source": [
    "source_articles = info_articles.keys()\n",
    "print('Total de Artigos publicados na subárea Lógica da Matemática: ' + str(len(source_articles)) + '.')\n",
    "source_journals = info_journals.keys()\n",
    "print('Total de Periódicos publicáveis na subárea Lógica da Matemática: ' + str(len(source_journals)) + '.')"
   ]
  },
  {
   "cell_type": "code",
   "execution_count": 7,
   "metadata": {
    "collapsed": true
   },
   "outputs": [],
   "source": [
    "old_keys = info_articles"
   ]
  },
  {
   "cell_type": "markdown",
   "metadata": {},
   "source": [
    "Coleções estão para o mongodb como tabelas estão para bancos relacionais como postgres ou mysql. Collections são grupos de documentos armazenados no mongodb, é nelas onde os dados serão armazenados, a selecão de uma collection é feita da seguinte forma:"
   ]
  },
  {
   "cell_type": "code",
   "execution_count": 8,
   "metadata": {
    "collapsed": true
   },
   "outputs": [],
   "source": [
    "# CRIANDO COLEÇÕES\n",
    "articles = db.articles\n",
    "journals = db.journals\n",
    "citations = db.citations"
   ]
  },
  {
   "cell_type": "markdown",
   "metadata": {},
   "source": [
    "Dados no mongodb são representados e armazenados usando o estilo de documentos JSON. Note que esses documentos podem conter listas, além de tipos nativos do python, no caso uma instância de datetime.datetime.\n",
    "\n",
    "Para inserir um documento em uma collection usamos o método `insert_one()`. Quando um documento é inserido, um “ObjectId” é criado, se você não especificar um “_id” em seu documento, será atribuido um valor aleatório ao seu ObjectId, veja no exemplo:"
   ]
  },
  {
   "cell_type": "code",
   "execution_count": 9,
   "metadata": {
    "collapsed": true
   },
   "outputs": [],
   "source": [
    "# TODOS OS ARTIGOS E PERIÓDICOS (INCLUSIVE AS REFERÊNCIAS)\n",
    "with open('pickles/' + category + '_REFS.pickle', 'rb') as f:\n",
    "    [info_articles, info_journals, ref_error] = pickle.load(f)\n",
    "    #[info_articles, info_journals] = pickle.load(f)"
   ]
  },
  {
   "cell_type": "code",
   "execution_count": 10,
   "metadata": {},
   "outputs": [
    {
     "name": "stdout",
     "output_type": "stream",
     "text": [
      "Total de Artigos da rede: 187938.\n",
      "Total de Periódicos da rede: 52267.\n"
     ]
    }
   ],
   "source": [
    "all_articles = info_articles.keys()\n",
    "print('Total de Artigos da rede: ' + str(len(all_articles)) + '.')\n",
    "all_journals = info_journals.keys()\n",
    "print('Total de Periódicos da rede: ' + str(len(all_journals)) + '.')"
   ]
  },
  {
   "cell_type": "code",
   "execution_count": 11,
   "metadata": {
    "collapsed": true
   },
   "outputs": [],
   "source": [
    "# Caso esteja na vesrsão antiga dos pickles\n",
    "#list(source_articles)[0] -> '2-s2.0-58049151597'\n",
    "#source_articles[0] - > '58049151597'\n",
    "def convertIdArticles(source_articles, info_articles, old_keys):\n",
    "    \n",
    "    source_articles_aux = []\n",
    "    for art in list(source_articles):\n",
    "        source_articles_aux.append(art.split('2-s2.0-')[1])\n",
    "        \n",
    "    for art in source_articles_aux:\n",
    "        try: \n",
    "            del info_articles['2-s2.0-' + art]\n",
    "            del info_articles[art]\n",
    "        except:\n",
    "            continue\n",
    "            \n",
    "    new_keys = {}\n",
    "    for art in source_articles_aux:\n",
    "        new_keys[art] = old_keys['2-s2.0-' + art]\n",
    "    new_keys.update(info_articles)\n",
    "\n",
    "    return source_articles_aux, new_keys"
   ]
  },
  {
   "cell_type": "code",
   "execution_count": 12,
   "metadata": {},
   "outputs": [],
   "source": [
    "source_articles, info_articles = convertIdArticles(source_articles, info_articles, old_keys)"
   ]
  },
  {
   "cell_type": "code",
   "execution_count": 13,
   "metadata": {},
   "outputs": [
    {
     "name": "stdout",
     "output_type": "stream",
     "text": [
      "Total de Artigos da rede: 179054.\n",
      "Total de Periódicos da rede: 52267.\n"
     ]
    }
   ],
   "source": [
    "all_articles = info_articles.keys()\n",
    "print('Total de Artigos da rede: ' + str(len(all_articles)) + '.')\n",
    "all_journals = info_journals.keys()\n",
    "print('Total de Periódicos da rede: ' + str(len(all_journals)) + '.')"
   ]
  },
  {
   "cell_type": "code",
   "execution_count": 14,
   "metadata": {},
   "outputs": [],
   "source": [
    "# INSERINDO UM DOCUMENTO NO MONGO\n",
    "for journal in all_journals:\n",
    "    id_j = journals.insert_one(info_journals[journal]).inserted_id"
   ]
  },
  {
   "cell_type": "code",
   "execution_count": 15,
   "metadata": {},
   "outputs": [],
   "source": [
    "for article in all_articles:\n",
    "    id_art = articles.insert_one(info_articles[article]).inserted_id"
   ]
  },
  {
   "cell_type": "markdown",
   "metadata": {},
   "source": [
    "## 2. Montando a Rede de Citações."
   ]
  },
  {
   "cell_type": "markdown",
   "metadata": {},
   "source": [
    "Criando índices de consulta no MongoDB."
   ]
  },
  {
   "cell_type": "code",
   "execution_count": 17,
   "metadata": {},
   "outputs": [
    {
     "data": {
      "text/plain": [
       "'ID_A_1'"
      ]
     },
     "execution_count": 17,
     "metadata": {},
     "output_type": "execute_result"
    }
   ],
   "source": [
    "articles.create_index([('ID_A',pymongo.ASCENDING)])"
   ]
  },
  {
   "cell_type": "code",
   "execution_count": 18,
   "metadata": {
    "collapsed": true
   },
   "outputs": [],
   "source": [
    "def citationsNetwork(source_articles, all_articles, info_articles):\n",
    "    \n",
    "    info_citations = {}\n",
    "    e = []\n",
    "    n = len(source_articles)\n",
    "    \n",
    "    for i in tqdm(range(n)):\n",
    "        art = i + 1\n",
    "        infos = articles.find_one({'ID_A': art})\n",
    "        id_a = infos['ID_A']\n",
    "        id_j = infos['ID_J']\n",
    "        year = int(infos['YEAR'].split('-')[0])\n",
    "        refs = infos['REFS']\n",
    "        \n",
    "        for ref in refs:\n",
    "            if info_articles.get(ref) == None: \n",
    "                e.append([art,ref])\n",
    "                #print('>>> ERRO na referência ' + str(ref) + ' do artigo ' + str(art) + '. <<<')\n",
    "                continue\n",
    "            \n",
    "            info_ref = info_articles[ref]\n",
    "            cit = {'SOURCE_A_ID': id_a, \n",
    "                   'SOURCE_A_YEAR': year,\n",
    "                   'SOURCE_J_ID': id_j,\n",
    "                   'TARGET_A_ID': info_ref['ID_A'],\n",
    "                   'TARGET_A_YEAR': int(info_ref['YEAR'].split('-')[0]),\n",
    "                   'TARGET_J_ID': info_ref['ID_J'],\n",
    "                   'EDITIONS': int(info_ref['YEAR'].split('-')[1])\n",
    "                  }\n",
    "            info_citations.update(cit)\n",
    "            id_cit = citations.insert_one(cit).inserted_id\n",
    "        #print('Citações do Artigo ' + str(art) + ' armazenadas!')\n",
    "        gc.collect()\n",
    "        pass\n",
    "    return info_citations, e"
   ]
  },
  {
   "cell_type": "code",
   "execution_count": 19,
   "metadata": {},
   "outputs": [
    {
     "data": {
      "application/vnd.jupyter.widget-view+json": {
       "model_id": "79b5fc080b124a0c9e38ff884fe9a927",
       "version_major": 2,
       "version_minor": 0
      },
      "text/plain": [
       "A Jupyter Widget"
      ]
     },
     "metadata": {},
     "output_type": "display_data"
    },
    {
     "name": "stdout",
     "output_type": "stream",
     "text": [
      "\n"
     ]
    }
   ],
   "source": [
    "info_citations, e = citationsNetwork(source_articles, all_articles, info_articles)"
   ]
  },
  {
   "cell_type": "code",
   "execution_count": 20,
   "metadata": {},
   "outputs": [
    {
     "data": {
      "text/plain": [
       "27"
      ]
     },
     "execution_count": 20,
     "metadata": {},
     "output_type": "execute_result"
    }
   ],
   "source": [
    "len(e)"
   ]
  },
  {
   "cell_type": "code",
   "execution_count": 21,
   "metadata": {
    "collapsed": true
   },
   "outputs": [],
   "source": [
    "var_cit = pd.DataFrame(list(citations.find()), columns=['SOURCE_A_ID', 'SOURCE_A_YEAR', 'SOURCE_J_ID', 'TARGET_A_ID' , 'TARGET_A_YEAR' ,'TARGET_J_ID' ,'EDITIONS'])"
   ]
  },
  {
   "cell_type": "code",
   "execution_count": 22,
   "metadata": {
    "collapsed": true
   },
   "outputs": [],
   "source": [
    "var_cit.index+=1"
   ]
  },
  {
   "cell_type": "code",
   "execution_count": 23,
   "metadata": {},
   "outputs": [
    {
     "data": {
      "text/html": [
       "<div>\n",
       "<style>\n",
       "    .dataframe thead tr:only-child th {\n",
       "        text-align: right;\n",
       "    }\n",
       "\n",
       "    .dataframe thead th {\n",
       "        text-align: left;\n",
       "    }\n",
       "\n",
       "    .dataframe tbody tr th {\n",
       "        vertical-align: top;\n",
       "    }\n",
       "</style>\n",
       "<table border=\"1\" class=\"dataframe\">\n",
       "  <thead>\n",
       "    <tr style=\"text-align: right;\">\n",
       "      <th></th>\n",
       "      <th>SOURCE_A_ID</th>\n",
       "      <th>SOURCE_A_YEAR</th>\n",
       "      <th>SOURCE_J_ID</th>\n",
       "      <th>TARGET_A_ID</th>\n",
       "      <th>TARGET_A_YEAR</th>\n",
       "      <th>TARGET_J_ID</th>\n",
       "      <th>EDITIONS</th>\n",
       "    </tr>\n",
       "  </thead>\n",
       "  <tbody>\n",
       "    <tr>\n",
       "      <th>1</th>\n",
       "      <td>1</td>\n",
       "      <td>2008</td>\n",
       "      <td>1</td>\n",
       "      <td>1232</td>\n",
       "      <td>2003</td>\n",
       "      <td>1</td>\n",
       "      <td>12</td>\n",
       "    </tr>\n",
       "    <tr>\n",
       "      <th>2</th>\n",
       "      <td>1</td>\n",
       "      <td>2008</td>\n",
       "      <td>1</td>\n",
       "      <td>18720</td>\n",
       "      <td>2003</td>\n",
       "      <td>19</td>\n",
       "      <td>1</td>\n",
       "    </tr>\n",
       "    <tr>\n",
       "      <th>3</th>\n",
       "      <td>1</td>\n",
       "      <td>2008</td>\n",
       "      <td>1</td>\n",
       "      <td>18102</td>\n",
       "      <td>2005</td>\n",
       "      <td>1</td>\n",
       "      <td>9</td>\n",
       "    </tr>\n",
       "    <tr>\n",
       "      <th>4</th>\n",
       "      <td>1</td>\n",
       "      <td>2008</td>\n",
       "      <td>1</td>\n",
       "      <td>9849</td>\n",
       "      <td>1973</td>\n",
       "      <td>1</td>\n",
       "      <td>7</td>\n",
       "    </tr>\n",
       "    <tr>\n",
       "      <th>5</th>\n",
       "      <td>1</td>\n",
       "      <td>2008</td>\n",
       "      <td>1</td>\n",
       "      <td>18723</td>\n",
       "      <td>1993</td>\n",
       "      <td>20</td>\n",
       "      <td>1</td>\n",
       "    </tr>\n",
       "  </tbody>\n",
       "</table>\n",
       "</div>"
      ],
      "text/plain": [
       "   SOURCE_A_ID  SOURCE_A_YEAR  SOURCE_J_ID  TARGET_A_ID  TARGET_A_YEAR  \\\n",
       "1            1           2008            1         1232           2003   \n",
       "2            1           2008            1        18720           2003   \n",
       "3            1           2008            1        18102           2005   \n",
       "4            1           2008            1         9849           1973   \n",
       "5            1           2008            1        18723           1993   \n",
       "\n",
       "   TARGET_J_ID  EDITIONS  \n",
       "1            1        12  \n",
       "2           19         1  \n",
       "3            1         9  \n",
       "4            1         7  \n",
       "5           20         1  "
      ]
     },
     "execution_count": 23,
     "metadata": {},
     "output_type": "execute_result"
    }
   ],
   "source": [
    "var_cit.head()"
   ]
  },
  {
   "cell_type": "code",
   "execution_count": 24,
   "metadata": {},
   "outputs": [
    {
     "data": {
      "text/html": [
       "<div>\n",
       "<style>\n",
       "    .dataframe thead tr:only-child th {\n",
       "        text-align: right;\n",
       "    }\n",
       "\n",
       "    .dataframe thead th {\n",
       "        text-align: left;\n",
       "    }\n",
       "\n",
       "    .dataframe tbody tr th {\n",
       "        vertical-align: top;\n",
       "    }\n",
       "</style>\n",
       "<table border=\"1\" class=\"dataframe\">\n",
       "  <thead>\n",
       "    <tr style=\"text-align: right;\">\n",
       "      <th></th>\n",
       "      <th>SOURCE_A_ID</th>\n",
       "      <th>SOURCE_A_YEAR</th>\n",
       "      <th>SOURCE_J_ID</th>\n",
       "      <th>TARGET_A_ID</th>\n",
       "      <th>TARGET_A_YEAR</th>\n",
       "      <th>TARGET_J_ID</th>\n",
       "      <th>EDITIONS</th>\n",
       "    </tr>\n",
       "  </thead>\n",
       "  <tbody>\n",
       "    <tr>\n",
       "      <th>326860</th>\n",
       "      <td>18718</td>\n",
       "      <td>2015</td>\n",
       "      <td>6</td>\n",
       "      <td>24749</td>\n",
       "      <td>2011</td>\n",
       "      <td>1573</td>\n",
       "      <td>5</td>\n",
       "    </tr>\n",
       "    <tr>\n",
       "      <th>326861</th>\n",
       "      <td>18718</td>\n",
       "      <td>2015</td>\n",
       "      <td>6</td>\n",
       "      <td>187937</td>\n",
       "      <td>0</td>\n",
       "      <td>52267</td>\n",
       "      <td>8</td>\n",
       "    </tr>\n",
       "    <tr>\n",
       "      <th>326862</th>\n",
       "      <td>18718</td>\n",
       "      <td>2015</td>\n",
       "      <td>6</td>\n",
       "      <td>178757</td>\n",
       "      <td>2010</td>\n",
       "      <td>109</td>\n",
       "      <td>12</td>\n",
       "    </tr>\n",
       "    <tr>\n",
       "      <th>326863</th>\n",
       "      <td>18718</td>\n",
       "      <td>2015</td>\n",
       "      <td>6</td>\n",
       "      <td>17447</td>\n",
       "      <td>2011</td>\n",
       "      <td>7</td>\n",
       "      <td>4</td>\n",
       "    </tr>\n",
       "    <tr>\n",
       "      <th>326864</th>\n",
       "      <td>18718</td>\n",
       "      <td>2015</td>\n",
       "      <td>6</td>\n",
       "      <td>23186</td>\n",
       "      <td>1996</td>\n",
       "      <td>108</td>\n",
       "      <td>10</td>\n",
       "    </tr>\n",
       "  </tbody>\n",
       "</table>\n",
       "</div>"
      ],
      "text/plain": [
       "        SOURCE_A_ID  SOURCE_A_YEAR  SOURCE_J_ID  TARGET_A_ID  TARGET_A_YEAR  \\\n",
       "326860        18718           2015            6        24749           2011   \n",
       "326861        18718           2015            6       187937              0   \n",
       "326862        18718           2015            6       178757           2010   \n",
       "326863        18718           2015            6        17447           2011   \n",
       "326864        18718           2015            6        23186           1996   \n",
       "\n",
       "        TARGET_J_ID  EDITIONS  \n",
       "326860         1573         5  \n",
       "326861        52267         8  \n",
       "326862          109        12  \n",
       "326863            7         4  \n",
       "326864          108        10  "
      ]
     },
     "execution_count": 24,
     "metadata": {},
     "output_type": "execute_result"
    }
   ],
   "source": [
    "var_cit.tail()"
   ]
  },
  {
   "cell_type": "code",
   "execution_count": 25,
   "metadata": {
    "collapsed": true
   },
   "outputs": [],
   "source": [
    "#var_cit.to_csv('outputs/var_cit_' + category + '.csv', index=False)"
   ]
  },
  {
   "cell_type": "code",
   "execution_count": 26,
   "metadata": {
    "collapsed": true
   },
   "outputs": [],
   "source": [
    "# gephi = var_cit = pd.DataFrame(list(citations.find()), columns=['SOURCE_J_ID', 'TARGET_J_ID'])\n",
    "# gephi.index+=1\n",
    "# gephi = gephi.rename(columns={'SOURCE_J_ID': 'SOURCE', 'TARGET_J_ID': 'TARGET'})"
   ]
  },
  {
   "cell_type": "code",
   "execution_count": 27,
   "metadata": {
    "collapsed": true
   },
   "outputs": [],
   "source": [
    "#gephi.to_csv('outputs/gephi_' + category + '.csv', index=False)"
   ]
  }
 ],
 "metadata": {
  "kernelspec": {
   "display_name": "Python 3",
   "language": "python",
   "name": "python3"
  },
  "language_info": {
   "codemirror_mode": {
    "name": "ipython",
    "version": 3
   },
   "file_extension": ".py",
   "mimetype": "text/x-python",
   "name": "python",
   "nbconvert_exporter": "python",
   "pygments_lexer": "ipython3",
   "version": "3.6.3"
  }
 },
 "nbformat": 4,
 "nbformat_minor": 2
}
