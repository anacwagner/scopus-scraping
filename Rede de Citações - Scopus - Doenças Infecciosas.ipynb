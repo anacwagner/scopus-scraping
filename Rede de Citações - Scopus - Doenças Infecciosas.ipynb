{
 "cells": [
  {
   "cell_type": "markdown",
   "metadata": {},
   "source": [
    "# REDE DE CITAÇÕES - SCOPUS - DOENÇAS INFECCIOSAS"
   ]
  },
  {
   "cell_type": "code",
   "execution_count": 1,
   "metadata": {},
   "outputs": [
    {
     "name": "stdout",
     "output_type": "stream",
     "text": [
      "C:\\Users\\Walter\\Documents\\WOS_CitationNetworks\n"
     ]
    }
   ],
   "source": [
    "# CARREGANDO BIBLIOTECAS\n",
    "import warnings\n",
    "warnings.simplefilter(action='ignore', category=DeprecationWarning)\n",
    "import OpenSSL.SSL\n",
    "import getpass\n",
    "\n",
    "import pybliometrics\n",
    "import pybliometrics.scopus as sc\n",
    "\n",
    "from selenium import webdriver\n",
    "from bs4 import BeautifulSoup\n",
    "\n",
    "from pymongo import MongoClient\n",
    "import pandas as pd\n",
    "import pickle\n",
    "\n",
    "from math import *\n",
    "\n",
    "import logging\n",
    "import os\n",
    "import shutil\n",
    "import send2trash\n",
    "import time\n",
    "import itertools\n",
    "import gc \n",
    "from tqdm import tqdm_notebook as tqdm\n",
    "\n",
    "import configparser as cf\n",
    "import importlib\n",
    "\n",
    "path_atual = os.getcwd()\n",
    "print(path_atual)\n",
    "path_download = '../../Downloads/'\n",
    "path_scopus = '../../../Walter/.scopus'"
   ]
  },
  {
   "cell_type": "markdown",
   "metadata": {},
   "source": [
    "O **pybliometrics** (anteriormente **scopus**) usa um arquivo de configuração `~/.scopus/config.ini` para salvar credenciais e nomes de diretório da pasta que armazena arquivos em cache.\n",
    "\n",
    "Para alterar sua chave ou alterar diretórios para arquivos em cache, edite esse arquivo manualmente e importe pybliometrics novamente.\n",
    "\n",
    "Se o arquivo de configuração não existir, o pybliometrics emitirá um aviso. Para gerar o arquivo de configuração, faça o seguinte comando `pybliometrics.utils.create_config()` logo após a importação.\n",
    "\n",
    "\n",
    "A **pybliometrics** solicita suas credenciais. A maioria dos usuários só precisa fornecer a chave da API e pressionar Enter no segundo prompt. "
   ]
  },
  {
   "cell_type": "code",
   "execution_count": 2,
   "metadata": {},
   "outputs": [],
   "source": [
    "# CONFIGURAÇÕES\n",
    "#sc.utils.create_config()"
   ]
  },
  {
   "cell_type": "code",
   "execution_count": 3,
   "metadata": {},
   "outputs": [],
   "source": [
    "# CATEGORIA PESQUISADA\n",
    "category = 'INFEC-DISEASES'"
   ]
  },
  {
   "cell_type": "markdown",
   "metadata": {},
   "source": [
    "## 1. No WoS, escolher uma área de pubicação e obter a listagem de periódicos.\n",
    "\n",
    "Usando o Web of Science, obter uma listagem de todos os periódicos publicados na categoria escolhida (**MEDICINE**). A fim de filtrar os resultados, foi escolhida uma subárea: **INFECTIOUS DISEASES**.\n",
    "\n",
    "* Em `Advanced Search` do WoS, pesquisar: `WC=(MEDICINE)` e selecionar a opção de apenas artigos. São encontrados 2.633.199 artigos. \n",
    "\n",
    "\n",
    "* Em seguida, selecionar o filtro de categoria do WoS, `INFECTIOUS DISEASES`. Agora, são eoncontrados 19.353 artigos. \n",
    "\n",
    "\n",
    "\n",
    "* No campo de filtros, tem a opção `Source Titles`. Ir em `more options / values...`. Com a página atualizada, ir em ` Analyze results`.\n",
    "\n",
    "\n",
    "* Novamente, escolher a opção `Source Titles`. \n",
    "\n",
    "\n",
    "* No final da página, selecionar a opção `All data rows (up to 100,000)` e realizar o download. "
   ]
  },
  {
   "cell_type": "markdown",
   "metadata": {},
   "source": [
    "![](figuras/journalsVis_INFEC-DISEASES.jpg)"
   ]
  },
  {
   "cell_type": "code",
   "execution_count": 4,
   "metadata": {},
   "outputs": [],
   "source": [
    "file_journals = pd.read_csv('journals/SourceTitles_' + category + '.txt', sep='\\t',index_col=False)\n",
    "file_journals.index += 1 \n",
    "file_journals = file_journals[:-1]"
   ]
  },
  {
   "cell_type": "code",
   "execution_count": 5,
   "metadata": {},
   "outputs": [
    {
     "data": {
      "text/html": [
       "<div>\n",
       "<style scoped>\n",
       "    .dataframe tbody tr th:only-of-type {\n",
       "        vertical-align: middle;\n",
       "    }\n",
       "\n",
       "    .dataframe tbody tr th {\n",
       "        vertical-align: top;\n",
       "    }\n",
       "\n",
       "    .dataframe thead th {\n",
       "        text-align: right;\n",
       "    }\n",
       "</style>\n",
       "<table border=\"1\" class=\"dataframe\">\n",
       "  <thead>\n",
       "    <tr style=\"text-align: right;\">\n",
       "      <th></th>\n",
       "      <th>Source Titles</th>\n",
       "      <th>records</th>\n",
       "      <th>% of 19353</th>\n",
       "    </tr>\n",
       "  </thead>\n",
       "  <tbody>\n",
       "    <tr>\n",
       "      <th>1</th>\n",
       "      <td>PLOS NEGLECTED TROPICAL DISEASES</td>\n",
       "      <td>6183.0</td>\n",
       "      <td>31.949</td>\n",
       "    </tr>\n",
       "    <tr>\n",
       "      <th>2</th>\n",
       "      <td>MALARIA JOURNAL</td>\n",
       "      <td>5143.0</td>\n",
       "      <td>26.575</td>\n",
       "    </tr>\n",
       "    <tr>\n",
       "      <th>3</th>\n",
       "      <td>BULLETIN DE LA SOCIETE DE PATHOLOGIE EXOTIQUE</td>\n",
       "      <td>2286.0</td>\n",
       "      <td>11.812</td>\n",
       "    </tr>\n",
       "    <tr>\n",
       "      <th>4</th>\n",
       "      <td>LEPROSY REVIEW</td>\n",
       "      <td>1616.0</td>\n",
       "      <td>8.350</td>\n",
       "    </tr>\n",
       "    <tr>\n",
       "      <th>5</th>\n",
       "      <td>SOUTHEAST ASIAN JOURNAL OF TROPICAL MEDICINE A...</td>\n",
       "      <td>1522.0</td>\n",
       "      <td>7.864</td>\n",
       "    </tr>\n",
       "    <tr>\n",
       "      <th>6</th>\n",
       "      <td>JOURNAL OF TRAVEL MEDICINE</td>\n",
       "      <td>1248.0</td>\n",
       "      <td>6.449</td>\n",
       "    </tr>\n",
       "    <tr>\n",
       "      <th>7</th>\n",
       "      <td>ADVANCES IN EXPERIMENTAL MEDICINE AND BIOLOGY</td>\n",
       "      <td>728.0</td>\n",
       "      <td>3.762</td>\n",
       "    </tr>\n",
       "    <tr>\n",
       "      <th>8</th>\n",
       "      <td>JOURNAL OF VECTOR BORNE DISEASES</td>\n",
       "      <td>498.0</td>\n",
       "      <td>2.573</td>\n",
       "    </tr>\n",
       "    <tr>\n",
       "      <th>9</th>\n",
       "      <td>STREPTOCOCCI AND THE HOST</td>\n",
       "      <td>243.0</td>\n",
       "      <td>1.256</td>\n",
       "    </tr>\n",
       "    <tr>\n",
       "      <th>10</th>\n",
       "      <td>ANNALS OF THE NEW YORK ACADEMY OF SCIENCES</td>\n",
       "      <td>57.0</td>\n",
       "      <td>0.295</td>\n",
       "    </tr>\n",
       "    <tr>\n",
       "      <th>11</th>\n",
       "      <td>IMPACT OF ECOLOGICAL CHANGES ON TROPICAL ANIMA...</td>\n",
       "      <td>49.0</td>\n",
       "      <td>0.253</td>\n",
       "    </tr>\n",
       "    <tr>\n",
       "      <th>12</th>\n",
       "      <td>MODULATION OF THE IMMUNE RESPONSE TO VACCINE A...</td>\n",
       "      <td>49.0</td>\n",
       "      <td>0.253</td>\n",
       "    </tr>\n",
       "    <tr>\n",
       "      <th>13</th>\n",
       "      <td>DEVELOPMENTS IN BIOLOGICAL STANDARDIZATION</td>\n",
       "      <td>43.0</td>\n",
       "      <td>0.222</td>\n",
       "    </tr>\n",
       "    <tr>\n",
       "      <th>14</th>\n",
       "      <td>MECHANISMS IN THE PATHOGENESIS OF ENTERIC DISE...</td>\n",
       "      <td>33.0</td>\n",
       "      <td>0.171</td>\n",
       "    </tr>\n",
       "    <tr>\n",
       "      <th>15</th>\n",
       "      <td>NEUROIMMUNE CIRCUITS DRUGS OF ABUSE AND INFECT...</td>\n",
       "      <td>33.0</td>\n",
       "      <td>0.171</td>\n",
       "    </tr>\n",
       "    <tr>\n",
       "      <th>16</th>\n",
       "      <td>HOT TOPICS IN INFECTION AND IMMUNITY IN CHILDREN</td>\n",
       "      <td>31.0</td>\n",
       "      <td>0.160</td>\n",
       "    </tr>\n",
       "    <tr>\n",
       "      <th>17</th>\n",
       "      <td>TROPICAL DISEASES FROM MOLECULE TO BEDSIDE</td>\n",
       "      <td>31.0</td>\n",
       "      <td>0.160</td>\n",
       "    </tr>\n",
       "    <tr>\n",
       "      <th>18</th>\n",
       "      <td>DENGUE AND ZIKA CONTROL AND ANTIVIRAL TREATMEN...</td>\n",
       "      <td>24.0</td>\n",
       "      <td>0.124</td>\n",
       "    </tr>\n",
       "    <tr>\n",
       "      <th>19</th>\n",
       "      <td>POLYOMAVIRUSES AND HUMAN DISEASES</td>\n",
       "      <td>24.0</td>\n",
       "      <td>0.124</td>\n",
       "    </tr>\n",
       "    <tr>\n",
       "      <th>20</th>\n",
       "      <td>ANTIVIRAL CHEMOTHERAPY 5</td>\n",
       "      <td>21.0</td>\n",
       "      <td>0.109</td>\n",
       "    </tr>\n",
       "    <tr>\n",
       "      <th>21</th>\n",
       "      <td>HOT TOPICS IN INFECTION AND IMMUNITY IN CHILDR...</td>\n",
       "      <td>21.0</td>\n",
       "      <td>0.109</td>\n",
       "    </tr>\n",
       "    <tr>\n",
       "      <th>22</th>\n",
       "      <td>HOT TOPICS IN INFECTION AND IMMUNITY IN CHILDR...</td>\n",
       "      <td>20.0</td>\n",
       "      <td>0.103</td>\n",
       "    </tr>\n",
       "    <tr>\n",
       "      <th>23</th>\n",
       "      <td>HOT TOPICS IN INFECTION AND IMMUNITY IN CHILDR...</td>\n",
       "      <td>20.0</td>\n",
       "      <td>0.103</td>\n",
       "    </tr>\n",
       "    <tr>\n",
       "      <th>24</th>\n",
       "      <td>COXIELLA BURNETII RECENT ADVANCES AND NEW PERS...</td>\n",
       "      <td>19.0</td>\n",
       "      <td>0.098</td>\n",
       "    </tr>\n",
       "    <tr>\n",
       "      <th>25</th>\n",
       "      <td>HOT TOPICS IN INFECTION AND IMMUNITY IN CHILDR...</td>\n",
       "      <td>19.0</td>\n",
       "      <td>0.098</td>\n",
       "    </tr>\n",
       "    <tr>\n",
       "      <th>26</th>\n",
       "      <td>CIBA FOUNDATION SYMPOSIA</td>\n",
       "      <td>16.0</td>\n",
       "      <td>0.083</td>\n",
       "    </tr>\n",
       "    <tr>\n",
       "      <th>27</th>\n",
       "      <td>MICROBIAL ENDOCRINOLOGY INTERKINGDOM SIGNALING...</td>\n",
       "      <td>16.0</td>\n",
       "      <td>0.083</td>\n",
       "    </tr>\n",
       "    <tr>\n",
       "      <th>28</th>\n",
       "      <td>T CELL SUBSETS IN INFECTIOUS AND AUTOIMMUNE DI...</td>\n",
       "      <td>16.0</td>\n",
       "      <td>0.083</td>\n",
       "    </tr>\n",
       "    <tr>\n",
       "      <th>29</th>\n",
       "      <td>HOT TOPICS IN INFECTION AND IMMUNITY IN CHILDR...</td>\n",
       "      <td>15.0</td>\n",
       "      <td>0.078</td>\n",
       "    </tr>\n",
       "    <tr>\n",
       "      <th>30</th>\n",
       "      <td>HOT TOPICS IN INFECTION AND IMMUNITY IN CHILDR...</td>\n",
       "      <td>14.0</td>\n",
       "      <td>0.072</td>\n",
       "    </tr>\n",
       "    <tr>\n",
       "      <th>31</th>\n",
       "      <td>UPDATES ON CLOSTRIDIUM DIFFICILE IN EUROPE ADV...</td>\n",
       "      <td>14.0</td>\n",
       "      <td>0.072</td>\n",
       "    </tr>\n",
       "    <tr>\n",
       "      <th>32</th>\n",
       "      <td>CROSSROADS BETWEEN INNATE AND ADAPTIVE IMMUNIT...</td>\n",
       "      <td>13.0</td>\n",
       "      <td>0.067</td>\n",
       "    </tr>\n",
       "    <tr>\n",
       "      <th>33</th>\n",
       "      <td>HEPATITIS E VIRUS</td>\n",
       "      <td>13.0</td>\n",
       "      <td>0.067</td>\n",
       "    </tr>\n",
       "    <tr>\n",
       "      <th>34</th>\n",
       "      <td>RECOMBINANT ANTIBODIES FOR INFECTIOUS DISEASES</td>\n",
       "      <td>13.0</td>\n",
       "      <td>0.067</td>\n",
       "    </tr>\n",
       "    <tr>\n",
       "      <th>35</th>\n",
       "      <td>ADVANCES IN MICROBIOLOGY INFECTIOUS DISEASES A...</td>\n",
       "      <td>11.0</td>\n",
       "      <td>0.057</td>\n",
       "    </tr>\n",
       "    <tr>\n",
       "      <th>36</th>\n",
       "      <td>ADVANCES IN MICROBIOLOGY INFECTIOUS DISEASES A...</td>\n",
       "      <td>10.0</td>\n",
       "      <td>0.052</td>\n",
       "    </tr>\n",
       "    <tr>\n",
       "      <th>37</th>\n",
       "      <td>ADVANCES IN MICROBIOLOGY INFECTIOUS DISEASES A...</td>\n",
       "      <td>10.0</td>\n",
       "      <td>0.052</td>\n",
       "    </tr>\n",
       "    <tr>\n",
       "      <th>38</th>\n",
       "      <td>ADVANCES IN MICROBIOLOGY INFECTIOUS DISEASES A...</td>\n",
       "      <td>10.0</td>\n",
       "      <td>0.052</td>\n",
       "    </tr>\n",
       "    <tr>\n",
       "      <th>39</th>\n",
       "      <td>EMERGING AND RE EMERGING VIRAL INFECTIONS ADVA...</td>\n",
       "      <td>9.0</td>\n",
       "      <td>0.047</td>\n",
       "    </tr>\n",
       "    <tr>\n",
       "      <th>40</th>\n",
       "      <td>FUNGAL BIOFILMS AND RELATED INFECTIONS ADVANCE...</td>\n",
       "      <td>9.0</td>\n",
       "      <td>0.047</td>\n",
       "    </tr>\n",
       "    <tr>\n",
       "      <th>41</th>\n",
       "      <td>INFECTIOUS DISEASES AND NANOMEDICINE III</td>\n",
       "      <td>9.0</td>\n",
       "      <td>0.047</td>\n",
       "    </tr>\n",
       "    <tr>\n",
       "      <th>42</th>\n",
       "      <td>MALARIA ADVANCES IN PATHOPHYSIOLOGY BIOLOGY AN...</td>\n",
       "      <td>8.0</td>\n",
       "      <td>0.041</td>\n",
       "    </tr>\n",
       "    <tr>\n",
       "      <th>43</th>\n",
       "      <td>CONTROL AND SURVEILLANCE OF HUMAN AFRICAN TRYP...</td>\n",
       "      <td>7.0</td>\n",
       "      <td>0.036</td>\n",
       "    </tr>\n",
       "    <tr>\n",
       "      <th>44</th>\n",
       "      <td>INFECTIOUS DISEASES AND NANOMEDICINE I</td>\n",
       "      <td>7.0</td>\n",
       "      <td>0.036</td>\n",
       "    </tr>\n",
       "    <tr>\n",
       "      <th>45</th>\n",
       "      <td>INFECTIOUS DISEASES AND NANOMEDICINE II</td>\n",
       "      <td>7.0</td>\n",
       "      <td>0.036</td>\n",
       "    </tr>\n",
       "    <tr>\n",
       "      <th>46</th>\n",
       "      <td>MODERN APPROACH TO BIOFILM RELATED ORTHOPAEDIC...</td>\n",
       "      <td>7.0</td>\n",
       "      <td>0.036</td>\n",
       "    </tr>\n",
       "    <tr>\n",
       "      <th>47</th>\n",
       "      <td>WHO TECHNICAL REPORT SERIES</td>\n",
       "      <td>7.0</td>\n",
       "      <td>0.036</td>\n",
       "    </tr>\n",
       "    <tr>\n",
       "      <th>48</th>\n",
       "      <td>DEVELOPMENTS IN BIOLOGICALS</td>\n",
       "      <td>6.0</td>\n",
       "      <td>0.031</td>\n",
       "    </tr>\n",
       "    <tr>\n",
       "      <th>49</th>\n",
       "      <td>ADVANCES IN MICROBIOLOGY INFECTIOUS DISEASES A...</td>\n",
       "      <td>2.0</td>\n",
       "      <td>0.010</td>\n",
       "    </tr>\n",
       "  </tbody>\n",
       "</table>\n",
       "</div>"
      ],
      "text/plain": [
       "                                        Source Titles  records  % of 19353\n",
       "1                    PLOS NEGLECTED TROPICAL DISEASES   6183.0      31.949\n",
       "2                                     MALARIA JOURNAL   5143.0      26.575\n",
       "3       BULLETIN DE LA SOCIETE DE PATHOLOGIE EXOTIQUE   2286.0      11.812\n",
       "4                                      LEPROSY REVIEW   1616.0       8.350\n",
       "5   SOUTHEAST ASIAN JOURNAL OF TROPICAL MEDICINE A...   1522.0       7.864\n",
       "6                          JOURNAL OF TRAVEL MEDICINE   1248.0       6.449\n",
       "7       ADVANCES IN EXPERIMENTAL MEDICINE AND BIOLOGY    728.0       3.762\n",
       "8                    JOURNAL OF VECTOR BORNE DISEASES    498.0       2.573\n",
       "9                           STREPTOCOCCI AND THE HOST    243.0       1.256\n",
       "10         ANNALS OF THE NEW YORK ACADEMY OF SCIENCES     57.0       0.295\n",
       "11  IMPACT OF ECOLOGICAL CHANGES ON TROPICAL ANIMA...     49.0       0.253\n",
       "12  MODULATION OF THE IMMUNE RESPONSE TO VACCINE A...     49.0       0.253\n",
       "13         DEVELOPMENTS IN BIOLOGICAL STANDARDIZATION     43.0       0.222\n",
       "14  MECHANISMS IN THE PATHOGENESIS OF ENTERIC DISE...     33.0       0.171\n",
       "15  NEUROIMMUNE CIRCUITS DRUGS OF ABUSE AND INFECT...     33.0       0.171\n",
       "16   HOT TOPICS IN INFECTION AND IMMUNITY IN CHILDREN     31.0       0.160\n",
       "17         TROPICAL DISEASES FROM MOLECULE TO BEDSIDE     31.0       0.160\n",
       "18  DENGUE AND ZIKA CONTROL AND ANTIVIRAL TREATMEN...     24.0       0.124\n",
       "19                  POLYOMAVIRUSES AND HUMAN DISEASES     24.0       0.124\n",
       "20                           ANTIVIRAL CHEMOTHERAPY 5     21.0       0.109\n",
       "21  HOT TOPICS IN INFECTION AND IMMUNITY IN CHILDR...     21.0       0.109\n",
       "22  HOT TOPICS IN INFECTION AND IMMUNITY IN CHILDR...     20.0       0.103\n",
       "23  HOT TOPICS IN INFECTION AND IMMUNITY IN CHILDR...     20.0       0.103\n",
       "24  COXIELLA BURNETII RECENT ADVANCES AND NEW PERS...     19.0       0.098\n",
       "25  HOT TOPICS IN INFECTION AND IMMUNITY IN CHILDR...     19.0       0.098\n",
       "26                           CIBA FOUNDATION SYMPOSIA     16.0       0.083\n",
       "27  MICROBIAL ENDOCRINOLOGY INTERKINGDOM SIGNALING...     16.0       0.083\n",
       "28  T CELL SUBSETS IN INFECTIOUS AND AUTOIMMUNE DI...     16.0       0.083\n",
       "29  HOT TOPICS IN INFECTION AND IMMUNITY IN CHILDR...     15.0       0.078\n",
       "30  HOT TOPICS IN INFECTION AND IMMUNITY IN CHILDR...     14.0       0.072\n",
       "31  UPDATES ON CLOSTRIDIUM DIFFICILE IN EUROPE ADV...     14.0       0.072\n",
       "32  CROSSROADS BETWEEN INNATE AND ADAPTIVE IMMUNIT...     13.0       0.067\n",
       "33                                  HEPATITIS E VIRUS     13.0       0.067\n",
       "34     RECOMBINANT ANTIBODIES FOR INFECTIOUS DISEASES     13.0       0.067\n",
       "35  ADVANCES IN MICROBIOLOGY INFECTIOUS DISEASES A...     11.0       0.057\n",
       "36  ADVANCES IN MICROBIOLOGY INFECTIOUS DISEASES A...     10.0       0.052\n",
       "37  ADVANCES IN MICROBIOLOGY INFECTIOUS DISEASES A...     10.0       0.052\n",
       "38  ADVANCES IN MICROBIOLOGY INFECTIOUS DISEASES A...     10.0       0.052\n",
       "39  EMERGING AND RE EMERGING VIRAL INFECTIONS ADVA...      9.0       0.047\n",
       "40  FUNGAL BIOFILMS AND RELATED INFECTIONS ADVANCE...      9.0       0.047\n",
       "41           INFECTIOUS DISEASES AND NANOMEDICINE III      9.0       0.047\n",
       "42  MALARIA ADVANCES IN PATHOPHYSIOLOGY BIOLOGY AN...      8.0       0.041\n",
       "43  CONTROL AND SURVEILLANCE OF HUMAN AFRICAN TRYP...      7.0       0.036\n",
       "44             INFECTIOUS DISEASES AND NANOMEDICINE I      7.0       0.036\n",
       "45            INFECTIOUS DISEASES AND NANOMEDICINE II      7.0       0.036\n",
       "46  MODERN APPROACH TO BIOFILM RELATED ORTHOPAEDIC...      7.0       0.036\n",
       "47                        WHO TECHNICAL REPORT SERIES      7.0       0.036\n",
       "48                        DEVELOPMENTS IN BIOLOGICALS      6.0       0.031\n",
       "49  ADVANCES IN MICROBIOLOGY INFECTIOUS DISEASES A...      2.0       0.010"
      ]
     },
     "execution_count": 5,
     "metadata": {},
     "output_type": "execute_result"
    }
   ],
   "source": [
    "file_journals"
   ]
  },
  {
   "cell_type": "code",
   "execution_count": 6,
   "metadata": {},
   "outputs": [],
   "source": [
    "SourceTitles = list(file_journals['Source Titles'])"
   ]
  },
  {
   "cell_type": "code",
   "execution_count": 7,
   "metadata": {},
   "outputs": [],
   "source": [
    "file_years = pd.read_csv('journals/PublicationYears_' + category + '.txt', sep='\\t',index_col=False)\n",
    "file_years.index += 1 \n",
    "file_years = file_years[:-2]"
   ]
  },
  {
   "cell_type": "code",
   "execution_count": 8,
   "metadata": {},
   "outputs": [
    {
     "data": {
      "text/html": [
       "<div>\n",
       "<style scoped>\n",
       "    .dataframe tbody tr th:only-of-type {\n",
       "        vertical-align: middle;\n",
       "    }\n",
       "\n",
       "    .dataframe tbody tr th {\n",
       "        vertical-align: top;\n",
       "    }\n",
       "\n",
       "    .dataframe thead th {\n",
       "        text-align: right;\n",
       "    }\n",
       "</style>\n",
       "<table border=\"1\" class=\"dataframe\">\n",
       "  <thead>\n",
       "    <tr style=\"text-align: right;\">\n",
       "      <th></th>\n",
       "      <th>Publication Years</th>\n",
       "      <th>records</th>\n",
       "      <th>% of 19353</th>\n",
       "    </tr>\n",
       "  </thead>\n",
       "  <tbody>\n",
       "    <tr>\n",
       "      <th>1</th>\n",
       "      <td>2019</td>\n",
       "      <td>434.0</td>\n",
       "      <td>2.243</td>\n",
       "    </tr>\n",
       "    <tr>\n",
       "      <th>2</th>\n",
       "      <td>2018</td>\n",
       "      <td>1474.0</td>\n",
       "      <td>7.616</td>\n",
       "    </tr>\n",
       "    <tr>\n",
       "      <th>3</th>\n",
       "      <td>2017</td>\n",
       "      <td>1657.0</td>\n",
       "      <td>8.562</td>\n",
       "    </tr>\n",
       "    <tr>\n",
       "      <th>4</th>\n",
       "      <td>2016</td>\n",
       "      <td>1711.0</td>\n",
       "      <td>8.841</td>\n",
       "    </tr>\n",
       "    <tr>\n",
       "      <th>5</th>\n",
       "      <td>2015</td>\n",
       "      <td>1570.0</td>\n",
       "      <td>8.112</td>\n",
       "    </tr>\n",
       "  </tbody>\n",
       "</table>\n",
       "</div>"
      ],
      "text/plain": [
       "  Publication Years  records  % of 19353\n",
       "1              2019    434.0       2.243\n",
       "2              2018   1474.0       7.616\n",
       "3              2017   1657.0       8.562\n",
       "4              2016   1711.0       8.841\n",
       "5              2015   1570.0       8.112"
      ]
     },
     "execution_count": 8,
     "metadata": {},
     "output_type": "execute_result"
    }
   ],
   "source": [
    "file_years.head()"
   ]
  },
  {
   "cell_type": "code",
   "execution_count": 9,
   "metadata": {},
   "outputs": [
    {
     "data": {
      "text/html": [
       "<div>\n",
       "<style scoped>\n",
       "    .dataframe tbody tr th:only-of-type {\n",
       "        vertical-align: middle;\n",
       "    }\n",
       "\n",
       "    .dataframe tbody tr th {\n",
       "        vertical-align: top;\n",
       "    }\n",
       "\n",
       "    .dataframe thead th {\n",
       "        text-align: right;\n",
       "    }\n",
       "</style>\n",
       "<table border=\"1\" class=\"dataframe\">\n",
       "  <thead>\n",
       "    <tr style=\"text-align: right;\">\n",
       "      <th></th>\n",
       "      <th>Publication Years</th>\n",
       "      <th>records</th>\n",
       "      <th>% of 19353</th>\n",
       "    </tr>\n",
       "  </thead>\n",
       "  <tbody>\n",
       "    <tr>\n",
       "      <th>41</th>\n",
       "      <td>1979</td>\n",
       "      <td>82.0</td>\n",
       "      <td>0.424</td>\n",
       "    </tr>\n",
       "    <tr>\n",
       "      <th>42</th>\n",
       "      <td>1978</td>\n",
       "      <td>92.0</td>\n",
       "      <td>0.475</td>\n",
       "    </tr>\n",
       "    <tr>\n",
       "      <th>43</th>\n",
       "      <td>1977</td>\n",
       "      <td>110.0</td>\n",
       "      <td>0.568</td>\n",
       "    </tr>\n",
       "    <tr>\n",
       "      <th>44</th>\n",
       "      <td>1976</td>\n",
       "      <td>68.0</td>\n",
       "      <td>0.351</td>\n",
       "    </tr>\n",
       "    <tr>\n",
       "      <th>45</th>\n",
       "      <td>1974</td>\n",
       "      <td>23.0</td>\n",
       "      <td>0.119</td>\n",
       "    </tr>\n",
       "  </tbody>\n",
       "</table>\n",
       "</div>"
      ],
      "text/plain": [
       "   Publication Years  records  % of 19353\n",
       "41              1979     82.0       0.424\n",
       "42              1978     92.0       0.475\n",
       "43              1977    110.0       0.568\n",
       "44              1976     68.0       0.351\n",
       "45              1974     23.0       0.119"
      ]
     },
     "execution_count": 9,
     "metadata": {},
     "output_type": "execute_result"
    }
   ],
   "source": [
    "file_years.tail()"
   ]
  },
  {
   "cell_type": "code",
   "execution_count": 10,
   "metadata": {},
   "outputs": [],
   "source": [
    "PublicationYears = list(file_years['Publication Years'])"
   ]
  },
  {
   "cell_type": "markdown",
   "metadata": {},
   "source": [
    "## 2. Usando a API do Scopus, pesquisar os artigos publicados por cada periódico.\n",
    "\n",
    "Usando a função [**ScopusSearch**](https://scopus.readthedocs.io/en/stable/examples/ScopusSearch.html), buscamos pelo nome de cada periódico (`SourceTitles`) em um intervalo de tempo pré-definido de 1974 a 2018. \n",
    "\n",
    "* O nome do periódico deve ser colocado entre aspas duplas para ser pesquisado como uma string, caso contrário será pesquisado como uma interseção das palavras que estão contidas no nome. \n",
    "\n",
    "` documents = sc.ScopusSearch('SRCTITLE (\"' + str(journal) + '\")  AND  PUBDATETXT (' + str(year) + ') AND DOCTYPE(ar) AND SRCTYPE (j)', refresh=True, apiKey=keys[k])`\n",
    "\n",
    "`documents = sc.ScopusSearch('SRCTITLE ( \"PLOS NEGLECTED TROPICAL DISEASES\" )  AND  PUBDATETXT (2018) AND DOCTYPE(ar) AND SRCTYPE (j)', refresh=True, apiKey=keys[k])`"
   ]
  },
  {
   "cell_type": "markdown",
   "metadata": {},
   "source": [
    "Como podemo gerar apenas 10 chaves de uma só vez, todas foram armazenadas em uma lista para ser usada durante o processo de extração. Caso o valor seja excedido, a extração irá parar e novas chaves derão ser geradas [manualmente](https://dev.elsevier.com/apikey/manage) e substituídas na lista `keys`. "
   ]
  },
  {
   "cell_type": "code",
   "execution_count": 11,
   "metadata": {},
   "outputs": [],
   "source": [
    "def createKeys(password,email,op=1):\n",
    "    # op=1: gera as 10 primeiras chaves (ainda não tenm nenhuma chave gerada)\n",
    "    # op=2: gera 10 novas chaves (deleta as 10 já existentes e depois faz a geração das chaves)\n",
    "    \n",
    "    driver = webdriver.Chrome(executable_path = r'/Users/Walter/Documents/chromedriver')\n",
    "\n",
    "    scopus_api_link = 'https://dev.elsevier.com/apikey/manage'\n",
    "    driver.get(scopus_api_link)\n",
    "\n",
    "    driver.find_element_by_xpath('//*[@id=\"bdd-email\"]').send_keys(email)\n",
    "    driver.find_element_by_xpath('//*[@id=\"bdd-elsPrimaryBtn\"]').click()\n",
    "    driver.find_element_by_xpath('//*[@id=\"bdd-password\"]').send_keys(password)\n",
    "    driver.find_element_by_xpath('//*[@id=\"bdd-elsPrimaryBtn\"]').click()\n",
    "    \n",
    "    if op==2:\n",
    "        # deletar todas as dez chaves existentes\n",
    "        for key in range(1,11):\n",
    "            time.sleep(5)\n",
    "            driver.find_element_by_xpath('/html/body/div[1]/div[4]/div[2]/div[1]/table/tbody/tr[1]/td[4]/a').click()\n",
    "            driver.find_element_by_xpath('//*[@id=\"delregister\"]').click()\n",
    "            time.sleep(5)\n",
    "            driver.find_element_by_xpath('//*[@id=\"deleteModal\"]/div/div/div[3]/button[1]').click()\n",
    "    \n",
    "    if op==1 or op==2:\n",
    "        # criar todas as dez chaves permitidas\n",
    "        for key in range(1,11):\n",
    "            time.sleep(5)\n",
    "            driver.find_element_by_xpath('/html/body/div[1]/div[4]/div[2]/h2/span/a').click()\n",
    "            driver.find_element_by_xpath('//*[@id=\"projectName\"]').send_keys('scopus'+str(key))\n",
    "            driver.find_element_by_xpath('//*[@id=\"websiteURL\"]').send_keys('https://github.com/anacwagner/')\n",
    "            driver.find_element_by_xpath('//*[@id=\"apicheckbox\"]/div/label').click()  \n",
    "            driver.find_element_by_xpath('//*[@id=\"tdmcheckbox\"]/div/label').click()\n",
    "            driver.find_element_by_xpath('//*[@id=\"register\"]').click()   \n",
    "        \n",
    "    \n",
    "    soup = BeautifulSoup(driver.page_source,'lxml')\n",
    "    findAll = soup.findAll('a')\n",
    "    \n",
    "    keys = []\n",
    "    for i in range(10,20):\n",
    "        keys.append(findAll[i].text)\n",
    "        \n",
    "    driver.quit()\n",
    "    \n",
    "    return keys"
   ]
  },
  {
   "cell_type": "code",
   "execution_count": 12,
   "metadata": {},
   "outputs": [
    {
     "name": "stdout",
     "output_type": "stream",
     "text": [
      "Password:········\n"
     ]
    }
   ],
   "source": [
    "password = getpass.getpass('Password:')\n",
    "email = 'acwgdb@gmail.com'"
   ]
  },
  {
   "cell_type": "code",
   "execution_count": 13,
   "metadata": {
    "scrolled": true
   },
   "outputs": [
    {
     "data": {
      "text/plain": [
       "['7e7f67a159fb90afa033290f852f4131',\n",
       " 'd4a42bfd7f407e2b6c13b09b21dcbc14',\n",
       " '7be63008d9cefda790203b1c27e04569',\n",
       " 'd82f760c53ffa7761301e565b600d8a2',\n",
       " '95f8268d60e2a4d324da7d234e6e043d',\n",
       " '421526296215ebcc3b3bcc2f28a3a4b6',\n",
       " '03f58bf9c3361b6337269d3723ff1c4c',\n",
       " '80f697f62db1aeb9490a66b7b408d220',\n",
       " '46ef9059698572beb9a55b76157fca29',\n",
       " '344bdf6291d72b713fb9b440620bb3cf']"
      ]
     },
     "execution_count": 13,
     "metadata": {},
     "output_type": "execute_result"
    }
   ],
   "source": [
    "keys = createKeys(password,email,2) \n",
    "keys"
   ]
  },
  {
   "cell_type": "markdown",
   "metadata": {},
   "source": [
    "Sempre que gerarmos novas chaves, devemos modificá-la no arquivo de configurações."
   ]
  },
  {
   "cell_type": "code",
   "execution_count": 14,
   "metadata": {},
   "outputs": [],
   "source": [
    "def changeKeys(k,keys):\n",
    "    config = cf.ConfigParser()\n",
    "    config.read(path_scopus + '/config.ini')\n",
    "    config.set(\"Authentication\", \"apikey\", keys[k])\n",
    "    with open(path_scopus + '/config.ini', \"w+\") as configfile:\n",
    "        config.write(configfile)\n",
    "    print('Nova Chave: ' + config.get(\"Authentication\", \"apikey\"))"
   ]
  },
  {
   "cell_type": "code",
   "execution_count": 15,
   "metadata": {},
   "outputs": [
    {
     "name": "stdout",
     "output_type": "stream",
     "text": [
      "Nova Chave: 7e7f67a159fb90afa033290f852f4131\n"
     ]
    }
   ],
   "source": [
    "changeKeys(0,keys)"
   ]
  },
  {
   "cell_type": "markdown",
   "metadata": {},
   "source": [
    "Segue um exemplo da pesquisa que vamos realizar."
   ]
  },
  {
   "cell_type": "code",
   "execution_count": 16,
   "metadata": {},
   "outputs": [
    {
     "name": "stdout",
     "output_type": "stream",
     "text": [
      "Total de resultados encontrados: 823 artigos.\n"
     ]
    },
    {
     "data": {
      "text/html": [
       "<div>\n",
       "<style scoped>\n",
       "    .dataframe tbody tr th:only-of-type {\n",
       "        vertical-align: middle;\n",
       "    }\n",
       "\n",
       "    .dataframe tbody tr th {\n",
       "        vertical-align: top;\n",
       "    }\n",
       "\n",
       "    .dataframe thead th {\n",
       "        text-align: right;\n",
       "    }\n",
       "</style>\n",
       "<table border=\"1\" class=\"dataframe\">\n",
       "  <thead>\n",
       "    <tr style=\"text-align: right;\">\n",
       "      <th></th>\n",
       "      <th>eid</th>\n",
       "      <th>doi</th>\n",
       "      <th>pii</th>\n",
       "      <th>pubmed_id</th>\n",
       "      <th>title</th>\n",
       "      <th>subtype</th>\n",
       "      <th>creator</th>\n",
       "      <th>afid</th>\n",
       "      <th>affilname</th>\n",
       "      <th>affiliation_city</th>\n",
       "      <th>...</th>\n",
       "      <th>issueIdentifier</th>\n",
       "      <th>article_number</th>\n",
       "      <th>pageRange</th>\n",
       "      <th>description</th>\n",
       "      <th>authkeywords</th>\n",
       "      <th>citedby_count</th>\n",
       "      <th>openaccess</th>\n",
       "      <th>fund_acr</th>\n",
       "      <th>fund_no</th>\n",
       "      <th>fund_sponsor</th>\n",
       "    </tr>\n",
       "  </thead>\n",
       "  <tbody>\n",
       "    <tr>\n",
       "      <th>1</th>\n",
       "      <td>2-s2.0-85059543982</td>\n",
       "      <td>10.1371/journal.pntd.0007016</td>\n",
       "      <td>None</td>\n",
       "      <td>30576335</td>\n",
       "      <td>General contextual effects on neglected tropic...</td>\n",
       "      <td>ar</td>\n",
       "      <td>de Glanville W.</td>\n",
       "      <td>60070343;60057834;60027272;60026158;60025225;6...</td>\n",
       "      <td>Kenya Medical Research Institute;International...</td>\n",
       "      <td>Nairobi;Nairobi;Edinburgh;Midlothian;Southampt...</td>\n",
       "      <td>...</td>\n",
       "      <td>12</td>\n",
       "      <td>e0007016</td>\n",
       "      <td>None</td>\n",
       "      <td>© 2018 de Glanville et al. http://creativecomm...</td>\n",
       "      <td>None</td>\n",
       "      <td>0</td>\n",
       "      <td>1</td>\n",
       "      <td>None</td>\n",
       "      <td>085308</td>\n",
       "      <td>Biotechnology and Biological Sciences Research...</td>\n",
       "    </tr>\n",
       "    <tr>\n",
       "      <th>2</th>\n",
       "      <td>2-s2.0-85059538668</td>\n",
       "      <td>10.1371/journal.pntd.0007063</td>\n",
       "      <td>None</td>\n",
       "      <td>30586355</td>\n",
       "      <td>Evaluation of the analytical and diagnostic pe...</td>\n",
       "      <td>ar</td>\n",
       "      <td>Ramírez J.</td>\n",
       "      <td>60065589;60040016;60031331</td>\n",
       "      <td>Universidad del Rosario;Instituto Nacional de ...</td>\n",
       "      <td>Bogota;Bogota;London</td>\n",
       "      <td>...</td>\n",
       "      <td>12</td>\n",
       "      <td>e0007063</td>\n",
       "      <td>None</td>\n",
       "      <td>© 2018 Ramírez et al. http://creativecommons.o...</td>\n",
       "      <td>None</td>\n",
       "      <td>2</td>\n",
       "      <td>1</td>\n",
       "      <td>None</td>\n",
       "      <td>undefined</td>\n",
       "      <td>None</td>\n",
       "    </tr>\n",
       "  </tbody>\n",
       "</table>\n",
       "<p>2 rows × 33 columns</p>\n",
       "</div>"
      ],
      "text/plain": [
       "                  eid                           doi   pii pubmed_id  \\\n",
       "1  2-s2.0-85059543982  10.1371/journal.pntd.0007016  None  30576335   \n",
       "2  2-s2.0-85059538668  10.1371/journal.pntd.0007063  None  30586355   \n",
       "\n",
       "                                               title subtype          creator  \\\n",
       "1  General contextual effects on neglected tropic...      ar  de Glanville W.   \n",
       "2  Evaluation of the analytical and diagnostic pe...      ar       Ramírez J.   \n",
       "\n",
       "                                                afid  \\\n",
       "1  60070343;60057834;60027272;60026158;60025225;6...   \n",
       "2                         60065589;60040016;60031331   \n",
       "\n",
       "                                           affilname  \\\n",
       "1  Kenya Medical Research Institute;International...   \n",
       "2  Universidad del Rosario;Instituto Nacional de ...   \n",
       "\n",
       "                                    affiliation_city  ... issueIdentifier  \\\n",
       "1  Nairobi;Nairobi;Edinburgh;Midlothian;Southampt...  ...              12   \n",
       "2                               Bogota;Bogota;London  ...              12   \n",
       "\n",
       "  article_number pageRange                                        description  \\\n",
       "1       e0007016      None  © 2018 de Glanville et al. http://creativecomm...   \n",
       "2       e0007063      None  © 2018 Ramírez et al. http://creativecommons.o...   \n",
       "\n",
       "  authkeywords citedby_count openaccess fund_acr    fund_no  \\\n",
       "1         None             0          1     None     085308   \n",
       "2         None             2          1     None  undefined   \n",
       "\n",
       "                                        fund_sponsor  \n",
       "1  Biotechnology and Biological Sciences Research...  \n",
       "2                                               None  \n",
       "\n",
       "[2 rows x 33 columns]"
      ]
     },
     "execution_count": 16,
     "metadata": {},
     "output_type": "execute_result"
    }
   ],
   "source": [
    "documents = sc.ScopusSearch('SRCTITLE (\"' + str(SourceTitles[0]) + '\")  AND  PUBDATETXT (' + str(2018) + ') AND DOCTYPE(ar) AND SRCTYPE ( j )', refresh=True, apiKey=keys[0])\n",
    "print('Total de resultados encontrados: ' + str(documents.get_results_size()) + ' artigos.')\n",
    "df_documents = pd.DataFrame(pd.DataFrame(documents.results))\n",
    "df_documents.index += 1 \n",
    "df_documents.head(2)"
   ]
  },
  {
   "cell_type": "markdown",
   "metadata": {},
   "source": [
    "O resultado da pesquisa sobre `documents` nos permite ter acesso às seguintes informações:\n",
    "\n",
    "Index(['eid', 'doi', 'pii', 'pubmed_id', 'title', 'subtype', 'creator', 'afid',\n",
    "       'affilname', 'affiliation_city', 'affiliation_country', 'author_count',\n",
    "       'author_names', 'author_ids', 'author_afids', 'coverDate',\n",
    "       'coverDisplayDate', 'publicationName', 'issn', 'source_id', 'eIssn',\n",
    "       'aggregationType', 'volume', 'issueIdentifier', 'article_number',\n",
    "       'pageRange', 'description', 'authkeywords', 'citedby_count',\n",
    "       'openaccess', 'fund_acr', 'fund_no', 'fund_sponsor'],\n",
    "      dtype='object')"
   ]
  },
  {
   "cell_type": "markdown",
   "metadata": {},
   "source": [
    "### Mensagens de Erro\n",
    "Uma exceção é gerada quando o status do download não está ok. Isso evita que informações com falha (ou seja, o status e a mensagem do erro) sejam salvas como arquivo em cache. Essas exceções são da classe base ScopusException.\n",
    "\n",
    "Algumas delas, são:\n",
    "\n",
    " \n",
    "* `pybliometrics.scopus.exception.Scopus404Error`: **NOT FOUND**\n",
    "A entidade que você está procurando não existe. Verifique se o seu identificador ainda está apontando para o item que você está procurando.\n",
    "\n",
    "\n",
    "* `pybliometrics.scopus.exception.Scopus429Error`: **QUOTA EXCEEDED**\n",
    "O limite semanal de 5000 solicitações da chave de API fornecida (para visualizações padrão) está esgotado. Aguarde uma semana ou altere a chave em `~/.scopus /config.ini.`.\n",
    "\n",
    "\n",
    "* `pybliometrics.scopus.exception.Scopus500Error`: **INTERNAL SERVER ERROR**\n",
    "Formalmente, o servidor não responde, por vários motivos. Um motivo comum nas pesquisas é que você usa um nome de campo que não existe. Verifique se sua consulta funciona na Pesquisa avançada."
   ]
  },
  {
   "cell_type": "code",
   "execution_count": 17,
   "metadata": {},
   "outputs": [],
   "source": [
    "def allArticlesSource(journalsSourceTitles, PublicationYears):\n",
    "    \n",
    "    source_eids = []\n",
    "    \n",
    "    i = len(source_eids) + 1\n",
    "    k = 0 # controle da chave da API\n",
    "    \n",
    "    for journal in journalsSourceTitles[i-1:]:\n",
    "        print('\\n ' + str(i) + '. Início da extração dos artigos do periódico \\n' + journal)\n",
    "        \n",
    "        eids = []\n",
    "        \n",
    "        for year in range(int(PublicationYears[-1]),2019):\n",
    "            \n",
    "            resultado = False\n",
    "            \n",
    "            while resultado == False:\n",
    "                try: \n",
    "                    documents = sc.ScopusSearch('SRCTITLE (\"' + str(journal) + '\")  AND  PUBDATETXT (' + str(year) + ') AND DOCTYPE(ar) AND  SRCTYPE (j)')\n",
    "                    eids.append(documents.get_eids())\n",
    "                    resultado = True\n",
    "                    \n",
    "                except sc.exception.Scopus404Error:  #NOT FOUND\n",
    "                    resultado = True\n",
    "                except sc.exception.Scopus429Error : #QUOTA EXCEEDED\n",
    "                    k = k + 1\n",
    "                    if k == 11:\n",
    "                        keys = createKeys(password,email)\n",
    "                        k = 0\n",
    "                        changeKeys(k,keys)\n",
    "                    else:\n",
    "                        changeKeys(k,keys)\n",
    "                except sc.exception.Scopus500Error:  #INTERNAL SERVER ERROR\n",
    "                    time.sleep(14)\n",
    "\n",
    "        source_eids.append(eids)\n",
    "        i = i + 1\n",
    "\n",
    "        with open('pickles/' + category + ' _eids.pickle', 'wb') as f:\n",
    "            pickle.dump([source_eids], f)\n",
    "        \n",
    "        #os.remove(path_scopus + '/scopus_search/COMPLETE/' + eid)\n",
    "        gc.collect()"
   ]
  },
  {
   "cell_type": "code",
   "execution_count": 18,
   "metadata": {},
   "outputs": [],
   "source": [
    "#allArticlesSource(SourceTitles, PublicationYears)"
   ]
  },
  {
   "cell_type": "code",
   "execution_count": 19,
   "metadata": {},
   "outputs": [],
   "source": [
    "with open('pickles/' + category + '_eids.pickle', 'rb') as f:\n",
    "    source_eids = pickle.load(f)"
   ]
  },
  {
   "cell_type": "markdown",
   "metadata": {},
   "source": [
    "A variável `source_eids` é uma lista de listas que armazena os códigos de identificação dos artigos publicados por cada periódico em cada ano. Cada ano é uma lista dentro da lista das publicações do periódico correpondente."
   ]
  },
  {
   "cell_type": "code",
   "execution_count": 20,
   "metadata": {},
   "outputs": [
    {
     "data": {
      "text/plain": [
       "49"
      ]
     },
     "execution_count": 20,
     "metadata": {},
     "output_type": "execute_result"
    }
   ],
   "source": [
    "len(source_eids[0])"
   ]
  },
  {
   "cell_type": "code",
   "execution_count": 21,
   "metadata": {},
   "outputs": [
    {
     "name": "stdout",
     "output_type": "stream",
     "text": [
      "Total de artigos da base: 41247\n"
     ]
    }
   ],
   "source": [
    "articlesSource = list(itertools.chain.from_iterable(source_eids))\n",
    "articlesSource = list(itertools.chain.from_iterable(articlesSource))\n",
    "articlesSource = list(set(list(itertools.chain.from_iterable(articlesSource))))\n",
    "print('Total de artigos da base: ' + str(len(articlesSource)))"
   ]
  },
  {
   "cell_type": "markdown",
   "metadata": {},
   "source": [
    "## 3. Usando a API do Scopus, extrair e armazenar as informações de cada artigo.\n",
    "\n",
    "As informações extraídas são armazenadas em dois diconários, um contendo as informações dos artigos (**info_articles**) e outro contendo as informações dos periódicos (**info_journals**). Essas estruturas foram pensadas para serem utilizadas no **PyMongo**!"
   ]
  },
  {
   "cell_type": "code",
   "execution_count": 22,
   "metadata": {},
   "outputs": [],
   "source": [
    "def keyNumber():\n",
    "    # Qual a chave que está sendo utilizada\n",
    "    config = cf.ConfigParser()\n",
    "    config.read(path_scopus + '/config.ini')\n",
    "    #print(config.get(\"Authentication\", \"apikey\"))\n",
    "    k = keys.index(str(config.get(\"Authentication\", \"apikey\")))\n",
    "    return k"
   ]
  },
  {
   "cell_type": "code",
   "execution_count": 23,
   "metadata": {},
   "outputs": [],
   "source": [
    "def articlesInfo(articles_eids,keys):\n",
    "    \n",
    "    # Qual a chave que está sendo utilizada\n",
    "    k = keyNumber()\n",
    "    \n",
    "    info_journals = {}\n",
    "    info_articles = {}\n",
    "    n = len(articles_eids)\n",
    "    \n",
    "    for i in tqdm(range(n)):\n",
    "        eid = articles_eids[i]\n",
    "        \n",
    "        id_article = len(info_articles) + 1\n",
    "        #print('Início da extração das informações do artigo ' + str(id_article))\n",
    "\n",
    "        resultado = False \n",
    "        while resultado == False:\n",
    "            try: \n",
    "                infos = sc.AbstractRetrieval(eid , view='FULL', refresh=True)\n",
    "                resultado = True\n",
    "                delete = True\n",
    "            except sc.exception.Scopus404Error:  #NOT FOUND\n",
    "                resultado = True\n",
    "            except sc.exception.Scopus429Error : #QUOTA EXCEEDED\n",
    "                k = k + 1\n",
    "                if k == 11:\n",
    "                    keys = createKeys(password,email)\n",
    "                    k = 0\n",
    "                    changeKeys(k,keys)\n",
    "                else:\n",
    "                    changeKeys(k,keys)\n",
    "            except sc.exception.Scopus500Error:  #INTERNAL SERVER ERROR\n",
    "                time.sleep(14)\n",
    "\n",
    "        if infos.issn != None:\n",
    "\n",
    "            aux_issn = infos.issn.split(' ')\n",
    "            m=0\n",
    "            n=1\n",
    "            issn = aux_issn[0]\n",
    "\n",
    "            if len(aux_issn) == 1: \n",
    "                n = 0\n",
    "\n",
    "            if info_journals.get(aux_issn[m]) == None and info_journals.get(aux_issn[n]) == None:\n",
    "\n",
    "                id_journal = len(info_journals) + 1\n",
    "                info_journals[issn] = {\"ID_J\": id_journal,\n",
    "                                       \"TITLE_J\": infos.publicationName}\n",
    "\n",
    "            elif info_journals.get(aux_issn[0]) != None:\n",
    "                id_journal = info_journals[issn]['ID_J']\n",
    "\n",
    "            else:\n",
    "                issn = aux_issn[1]\n",
    "                id_journal = info_journals[issn]['ID_J']\n",
    "\n",
    "        else: \n",
    "            issn = infos.publicationName\n",
    "            if info_journals.get(issn) == None:\n",
    "                id_journal = len(info_journals) + 1\n",
    "                info_journals[issn] = {\"ID_J\": id_journal,\n",
    "                                       \"TITLE_J\": infos.publicationName}\n",
    "            else:\n",
    "                id_journal = info_journals[issn]['ID_J']\n",
    "\n",
    "        refs = infos.references\n",
    "        refs_eids = []\n",
    "        if refs != None:\n",
    "            for r in range(len(refs)):\n",
    "                refs_eids.append(refs[r][1])\n",
    "\n",
    "        authors = {}\n",
    "        if infos.authors != None:\n",
    "            for a in range(len(infos.authors)):\n",
    "                authors['author_' + str(a)] ={'auid': infos.authors[a][0],\n",
    "                                              'indexed_name': infos.authors[a][1],\n",
    "                                              'affiliation': infos.authors[a][-1]}\n",
    "\n",
    "        try: \n",
    "            cited = infos.citedby_count\n",
    "        except KeyError:\n",
    "            cited = 'NaN'\n",
    "\n",
    "        info_articles[eid] = {\"ID_A\": id_article,\n",
    "                              \"TITLE_A\": infos.title,\n",
    "                              \"DOI\": infos.doi,\n",
    "                              \"YEAR\": infos.coverDate,\n",
    "                              \"AUTHORS\": authors,\n",
    "                              \"ISSN\": issn,\n",
    "                              \"ID_J\": id_journal,\n",
    "                              \"TITLE_J\": infos.publicationName,\n",
    "                              \"REFS\": refs_eids,\n",
    "                              \"CITED_BY_COUNT\": cited}\n",
    "\n",
    "        gc.collect()\n",
    "        \n",
    "        try:\n",
    "            os.remove(path_scopus + '/abstract_retrieval/FULL/' + eid)\n",
    "        except FileNotFoundError:\n",
    "            continue\n",
    "\n",
    "        with open('pickles/' + category + '_INFOS.pickle', 'wb') as f:\n",
    "                pickle.dump([info_articles,info_journals], f)\n",
    "        pass\n",
    "    \n",
    "    with open('pickles/' + category + '_INFOS.pickle', 'wb') as f:\n",
    "        pickle.dump([info_articles,info_journals], f)"
   ]
  },
  {
   "cell_type": "code",
   "execution_count": 24,
   "metadata": {},
   "outputs": [
    {
     "data": {
      "application/vnd.jupyter.widget-view+json": {
       "model_id": "e40ca6e65e36444192fbde44cf77ae65",
       "version_major": 2,
       "version_minor": 0
      },
      "text/plain": [
       "HBox(children=(IntProgress(value=0, max=41247), HTML(value='')))"
      ]
     },
     "metadata": {},
     "output_type": "display_data"
    },
    {
     "name": "stdout",
     "output_type": "stream",
     "text": [
      "Nova Chave: 1518a4b12db5a243db8fd753960959b8\n",
      "Nova Chave: 693fbc17524c91d69deaddb6acd19981\n",
      "Nova Chave: 3d1e2714d92d51b456fe658b295890aa\n",
      "Nova Chave: d9a0c6198b679b68d3a98d2e881ec67e\n",
      "\n"
     ]
    }
   ],
   "source": [
    "articlesInfo(articlesSource,keys)"
   ]
  },
  {
   "cell_type": "markdown",
   "metadata": {},
   "source": [
    "## 4. Usando a API do Scopus, extrair e armazenar as informações das referências de cada artigo."
   ]
  },
  {
   "cell_type": "code",
   "execution_count": 25,
   "metadata": {},
   "outputs": [],
   "source": [
    "with open('pickles/' + category + '_INFOS.pickle', 'rb') as f:\n",
    "    [info_articles, info_journals] = pickle.load(f)"
   ]
  },
  {
   "cell_type": "code",
   "execution_count": 26,
   "metadata": {},
   "outputs": [
    {
     "name": "stdout",
     "output_type": "stream",
     "text": [
      "Total de Periódicos: 22\n"
     ]
    }
   ],
   "source": [
    "print('Total de Periódicos: ' + str(len(info_journals)))"
   ]
  },
  {
   "cell_type": "code",
   "execution_count": 27,
   "metadata": {},
   "outputs": [
    {
     "name": "stdout",
     "output_type": "stream",
     "text": [
      "Não foram coletadas informações do periódico: 8 STREPTOCOCCI AND THE HOST\n",
      "Não foram coletadas informações do periódico: 10 IMPACT OF ECOLOGICAL CHANGES ON TROPICAL ANIMAL HEALTH AND DISEASE CONTROL\n",
      "Não foram coletadas informações do periódico: 11 MODULATION OF THE IMMUNE RESPONSE TO VACCINE ANTIGENS\n",
      "Não foram coletadas informações do periódico: 13 MECHANISMS IN THE PATHOGENESIS OF ENTERIC DISEASES 2\n",
      "Não foram coletadas informações do periódico: 14 NEUROIMMUNE CIRCUITS DRUGS OF ABUSE AND INFECTIOUS DISEASES\n",
      "Não foram coletadas informações do periódico: 15 HOT TOPICS IN INFECTION AND IMMUNITY IN CHILDREN\n",
      "Não foram coletadas informações do periódico: 16 TROPICAL DISEASES FROM MOLECULE TO BEDSIDE\n",
      "Não foram coletadas informações do periódico: 17 DENGUE AND ZIKA CONTROL AND ANTIVIRAL TREATMENT STRATEGIES\n",
      "Não foram coletadas informações do periódico: 18 POLYOMAVIRUSES AND HUMAN DISEASES\n",
      "Não foram coletadas informações do periódico: 19 ANTIVIRAL CHEMOTHERAPY 5\n",
      "Não foram coletadas informações do periódico: 20 HOT TOPICS IN INFECTION AND IMMUNITY IN CHILDREN III\n",
      "Não foram coletadas informações do periódico: 21 HOT TOPICS IN INFECTION AND IMMUNITY IN CHILDREN V\n",
      "Não foram coletadas informações do periódico: 22 HOT TOPICS IN INFECTION AND IMMUNITY IN CHILDREN VII\n",
      "Não foram coletadas informações do periódico: 23 COXIELLA BURNETII RECENT ADVANCES AND NEW PERSPECTIVES IN RESEARCH OF THE Q FEVER BACTERIUM\n",
      "Não foram coletadas informações do periódico: 24 HOT TOPICS IN INFECTION AND IMMUNITY IN CHILDREN IX\n",
      "Não foram coletadas informações do periódico: 26 MICROBIAL ENDOCRINOLOGY INTERKINGDOM SIGNALING IN INFECTIOUS DISEASE AND HEALTH 2ND EDITION\n",
      "Não foram coletadas informações do periódico: 27 T CELL SUBSETS IN INFECTIOUS AND AUTOIMMUNE DISEASES\n",
      "Não foram coletadas informações do periódico: 28 HOT TOPICS IN INFECTION AND IMMUNITY IN CHILDREN II\n",
      "Não foram coletadas informações do periódico: 29 HOT TOPICS IN INFECTION AND IMMUNITY IN CHILDREN VI\n",
      "Não foram coletadas informações do periódico: 30 UPDATES ON CLOSTRIDIUM DIFFICILE IN EUROPE ADVANCES IN MICROBIOLOGY INFECTIOUS DISEASES AND PUBLIC HEALTH VOL 8\n",
      "Não foram coletadas informações do periódico: 31 CROSSROADS BETWEEN INNATE AND ADAPTIVE IMMUNITY IV\n",
      "Não foram coletadas informações do periódico: 32 HEPATITIS E VIRUS\n",
      "Não foram coletadas informações do periódico: 33 RECOMBINANT ANTIBODIES FOR INFECTIOUS DISEASES\n",
      "Não foram coletadas informações do periódico: 34 ADVANCES IN MICROBIOLOGY INFECTIOUS DISEASES AND PUBLIC HEALTH VOL 7\n",
      "Não foram coletadas informações do periódico: 35 ADVANCES IN MICROBIOLOGY INFECTIOUS DISEASES AND PUBLIC HEALTH VOL 1\n",
      "Não foram coletadas informações do periódico: 36 ADVANCES IN MICROBIOLOGY INFECTIOUS DISEASES AND PUBLIC HEALTH VOL 2\n",
      "Não foram coletadas informações do periódico: 37 ADVANCES IN MICROBIOLOGY INFECTIOUS DISEASES AND PUBLIC HEALTH VOL 9\n",
      "Não foram coletadas informações do periódico: 38 EMERGING AND RE EMERGING VIRAL INFECTIONS ADVANCES IN MICROBIOLOGY INFECTIOUS DISEASES AND PUBLIC HEALTH VOL 6\n",
      "Não foram coletadas informações do periódico: 39 FUNGAL BIOFILMS AND RELATED INFECTIONS ADVANCES IN MICROBIOLOGY INFECTIOUS DISEASES AND PUBLIC HEALTH VOL 3\n",
      "Não foram coletadas informações do periódico: 40 INFECTIOUS DISEASES AND NANOMEDICINE III\n",
      "Não foram coletadas informações do periódico: 41 MALARIA ADVANCES IN PATHOPHYSIOLOGY BIOLOGY AND DRUG DEVELOPMENT\n",
      "Não foram coletadas informações do periódico: 42 CONTROL AND SURVEILLANCE OF HUMAN AFRICAN TRYPANOSOMIASIS\n",
      "Não foram coletadas informações do periódico: 43 INFECTIOUS DISEASES AND NANOMEDICINE I\n",
      "Não foram coletadas informações do periódico: 44 INFECTIOUS DISEASES AND NANOMEDICINE II\n",
      "Não foram coletadas informações do periódico: 45 MODERN APPROACH TO BIOFILM RELATED ORTHOPAEDIC IMPLANT INFECTIONS ADVANCES IN MICROBIOLOGY INFECTIOUS DISEASES AND PUBLIC HEALTH VOL 5\n",
      "Não foram coletadas informações do periódico: 48 ADVANCES IN MICROBIOLOGY INFECTIOUS DISEASES AND PUBLIC HEALTH VOL 4\n"
     ]
    }
   ],
   "source": [
    "for i in range(len(SourceTitles)):\n",
    "    if list(itertools.chain.from_iterable(source_eids[0][i])) == []:\n",
    "        print('Não foram coletadas informações do periódico:', str(i), SourceTitles[i])"
   ]
  },
  {
   "cell_type": "code",
   "execution_count": 28,
   "metadata": {},
   "outputs": [
    {
     "name": "stdout",
     "output_type": "stream",
     "text": [
      "Total de Artigos: 41247\n"
     ]
    }
   ],
   "source": [
    "print('Total de Artigos: ' + str(len(info_articles)))"
   ]
  },
  {
   "cell_type": "code",
   "execution_count": 29,
   "metadata": {},
   "outputs": [
    {
     "data": {
      "text/plain": [
       "{'ID_J': 1, 'TITLE_J': 'Malaria Journal'}"
      ]
     },
     "execution_count": 29,
     "metadata": {},
     "output_type": "execute_result"
    }
   ],
   "source": [
    "info_journals['14752875']"
   ]
  },
  {
   "cell_type": "code",
   "execution_count": 30,
   "metadata": {},
   "outputs": [
    {
     "data": {
      "text/plain": [
       "{'ID_A': 1,\n",
       " 'TITLE_A': 'Modelling the dynamics of Plasmodium falciparum histidine-rich protein 2 in human malaria to better understand malaria rapid diagnostic test performance',\n",
       " 'DOI': '10.1186/1475-2875-11-74',\n",
       " 'YEAR': '2012-03-20',\n",
       " 'AUTHORS': {'author_0': {'auid': '57202807585',\n",
       "   'indexed_name': 'Marquart L.',\n",
       "   'affiliation': ['60025029']},\n",
       "  'author_1': {'auid': '36670828200',\n",
       "   'indexed_name': 'Butterworth A.',\n",
       "   'affiliation': ['60025029', '60031004']},\n",
       "  'author_2': {'auid': '55649177700',\n",
       "   'indexed_name': 'McCarthy J.S.',\n",
       "   'affiliation': ['60025029', '60031004']},\n",
       "  'author_3': {'auid': '6701868710',\n",
       "   'indexed_name': 'Gatton M.L.',\n",
       "   'affiliation': ['60093234']}},\n",
       " 'ISSN': '14752875',\n",
       " 'ID_J': 1,\n",
       " 'TITLE_J': 'Malaria Journal',\n",
       " 'REFS': ['31444454856',\n",
       "  '0030751388',\n",
       "  '24044463572',\n",
       "  '54349108204',\n",
       "  '70350401148',\n",
       "  '0035295408',\n",
       "  '33846043474',\n",
       "  '21044447731',\n",
       "  '0003950237',\n",
       "  '80051922283',\n",
       "  '79951944951',\n",
       "  '0032765519',\n",
       "  '0032791514',\n",
       "  '79960658403',\n",
       "  '79955122444',\n",
       "  '79953896041',\n",
       "  '77956466814',\n",
       "  '56349172651',\n",
       "  '68949151495',\n",
       "  '77955558696',\n",
       "  '84861338996'],\n",
       " 'CITED_BY_COUNT': 18}"
      ]
     },
     "execution_count": 30,
     "metadata": {},
     "output_type": "execute_result"
    }
   ],
   "source": [
    "info_articles['2-s2.0-84858304335']"
   ]
  },
  {
   "cell_type": "code",
   "execution_count": 31,
   "metadata": {},
   "outputs": [
    {
     "data": {
      "text/plain": [
       "['31444454856',\n",
       " '0030751388',\n",
       " '24044463572',\n",
       " '54349108204',\n",
       " '70350401148',\n",
       " '0035295408',\n",
       " '33846043474',\n",
       " '21044447731',\n",
       " '0003950237',\n",
       " '80051922283',\n",
       " '79951944951',\n",
       " '0032765519',\n",
       " '0032791514',\n",
       " '79960658403',\n",
       " '79955122444',\n",
       " '79953896041',\n",
       " '77956466814',\n",
       " '56349172651',\n",
       " '68949151495',\n",
       " '77955558696',\n",
       " '84861338996']"
      ]
     },
     "execution_count": 31,
     "metadata": {},
     "output_type": "execute_result"
    }
   ],
   "source": [
    "info_articles['2-s2.0-84858304335']['REFS']"
   ]
  },
  {
   "cell_type": "markdown",
   "metadata": {},
   "source": [
    "Como podemos perceber, a estrtura da codifcação dos artigos da base está diferente das referências citadas pelo mesmo (sequência apenas numérica). A codificação dos artigos da base possuem a mesma sequência numérica, porém com o seguinte prefixo: **2-s2.0-**. Se não deixarmos padronizadas, como tais sequências são as chaves do dicionário com as informações de todos os artigos, se algum artigo da base aparecer nas referências de outro artigo, ele será inserido novamente no dicionário com outra chave."
   ]
  },
  {
   "cell_type": "code",
   "execution_count": 34,
   "metadata": {},
   "outputs": [],
   "source": [
    "def refsInfo(source_eids, info_journals, info_articles, keys):\n",
    "    \n",
    "    # Qual a chave que está sendo utilizada\n",
    "    k = keyNumber()\n",
    "\n",
    "    art = 0\n",
    "    n = len(source_eids)\n",
    "    \n",
    "    ref_e = []\n",
    "    for i in tqdm(range(n)):\n",
    "        eid = source_eids[i]\n",
    "        REFS = info_articles[eid]['REFS']\n",
    "        art = art +  1\n",
    "        #print('Início da extração das informações das citações do artigo ' + str(art))\n",
    "        cit = 0\n",
    "        \n",
    "        if len(REFS) != 0:\n",
    "            for ref in REFS:\n",
    "                cit = cit + 1\n",
    "                ref = '2-s2.0-' + ref\n",
    "                if info_articles.get(ref) == None:\n",
    "                    \n",
    "                    id_article = len(info_articles) + 1\n",
    "                    \n",
    "                    resultado = False \n",
    "                    while resultado == False:\n",
    "                        try: \n",
    "                            infos = sc.AbstractRetrieval(ref , view='FULL', refresh=True)\n",
    "                            resultado = True\n",
    "                            ref_info = True\n",
    "                        except sc.exception.Scopus404Error:  #NOT FOUND\n",
    "                            resultado = True\n",
    "                            ref_info = False\n",
    "                        except sc.exception.Scopus429Error : #QUOTA EXCEEDED\n",
    "                            k = k + 1\n",
    "                            if k == 11:\n",
    "                                keys = createKeys(password,email)\n",
    "                                k = 0\n",
    "                                changeKeys(k,keys)\n",
    "                            else:\n",
    "                                changeKeys(k,keys)\n",
    "                        except sc.exception.Scopus500Error:  #INTERNAL SERVER ERROR\n",
    "                            time.sleep(14)\n",
    "                    \n",
    "                    if not(ref_info): \n",
    "                        ref_e.append(ref)\n",
    "                        continue\n",
    "                    \n",
    "                    if infos.issn != None:\n",
    "                        aux_issn = infos.issn.split(' ')\n",
    "                        m=0\n",
    "                        n=1\n",
    "                        issn = aux_issn[0]\n",
    "\n",
    "                        if len(aux_issn) == 1: \n",
    "                            n = 0\n",
    "                        \n",
    "                        if info_journals.get(aux_issn[m]) == None and info_journals.get(aux_issn[n]) == None:\n",
    "\n",
    "                            id_journal = len(info_journals) + 1\n",
    "                            info_journals[issn] = {\"ID_J\": id_journal,\n",
    "                                                   \"TITLE_J\": infos.publicationName}\n",
    "\n",
    "                        elif info_journals.get(aux_issn[0]) != None:\n",
    "                            id_journal = info_journals[issn]['ID_J']\n",
    "\n",
    "                        else:\n",
    "                            issn = aux_issn[1]\n",
    "                            id_journal = info_journals[issn]['ID_J']\n",
    "\n",
    "                    else: \n",
    "                        issn = infos.publicationName\n",
    "                        if info_journals.get(issn) == None:\n",
    "                            id_journal = len(info_journals) + 1\n",
    "                            info_journals[issn] = {\"ID_J\": id_journal,\n",
    "                                                   \"TITLE_J\": infos.publicationName}\n",
    "                        else:\n",
    "                            id_journal = info_journals[issn]['ID_J']\n",
    "\n",
    "\n",
    "                    refs = infos.references\n",
    "                    refs_eids = []\n",
    "                    if refs != None:\n",
    "                        for r in range(len(refs)):\n",
    "                            refs_eids.append(refs[r][1])\n",
    "\n",
    "                    authors = {}\n",
    "                    if infos.authors != None:\n",
    "                        for a in range(len(infos.authors)):\n",
    "                            authors['author_' + str(a)] ={'auid': infos.authors[a][0],\n",
    "                                                          'indexed_name': infos.authors[a][1],\n",
    "                                                          'affiliation': infos.authors[a][-1]}\n",
    "\n",
    "                    try: \n",
    "                        cited = infos.citedby_count\n",
    "                    except KeyError:\n",
    "                        cited = 'NaN'\n",
    "\n",
    "                    info_articles[ref] = {\"ID_A\": id_article,\n",
    "                                          \"TITLE_A\": infos.title,\n",
    "                                          \"DOI\": infos.doi,\n",
    "                                          \"YEAR\": infos.coverDate,\n",
    "                                          \"AUTHORS\": authors,\n",
    "                                          \"ISSN\": issn,\n",
    "                                          \"ID_J\": id_journal,\n",
    "                                          \"TITLE_J\": infos.publicationName,\n",
    "                                          \"REFS\": refs_eids,\n",
    "                                          \"CITED_BY_COUNT\": cited}\n",
    "\n",
    "                    gc.collect()\n",
    "                    \n",
    "                    try:\n",
    "                        os.remove(path_scopus + '/abstract_retrieval/FULL/' + ref)\n",
    "                    except FileNotFoundError:\n",
    "                        continue      \n",
    "\n",
    "            with open('pickles/' + category + '_REFS.pickle', 'wb') as f:\n",
    "                pickle.dump([info_articles,info_journals, ref_e], f)\n",
    "        pass\n",
    "\n",
    "    with open('pickles/' + category + '_REFS.pickle', 'wb') as f:\n",
    "        pickle.dump([info_articles,info_journals, ref_e], f)"
   ]
  },
  {
   "cell_type": "code",
   "execution_count": null,
   "metadata": {},
   "outputs": [
    {
     "data": {
      "application/vnd.jupyter.widget-view+json": {
       "model_id": "670f8f8d789b490c980e7b54c50a3283",
       "version_major": 2,
       "version_minor": 0
      },
      "text/plain": [
       "HBox(children=(IntProgress(value=0, max=41247), HTML(value='')))"
      ]
     },
     "metadata": {},
     "output_type": "display_data"
    },
    {
     "name": "stdout",
     "output_type": "stream",
     "text": [
      "Nova Chave: d4a42bfd7f407e2b6c13b09b21dcbc14\n"
     ]
    }
   ],
   "source": [
    "refsInfo(articlesSource, info_journals, info_articles, keys)"
   ]
  },
  {
   "cell_type": "code",
   "execution_count": null,
   "metadata": {
    "collapsed": true
   },
   "outputs": [],
   "source": [
    "with open('pickles/' + category + '_REFS.pickle', 'rb') as f:\n",
    "    [info_articles, info_journals, ref_e] = pickle.load(f)"
   ]
  },
  {
   "cell_type": "code",
   "execution_count": null,
   "metadata": {
    "collapsed": true
   },
   "outputs": [],
   "source": [
    "print(\"Total de Artigos: \" + str(len(info_articles)))\n",
    "print(\"Total de Periódicos: \" + str(len(info_journals)))"
   ]
  }
 ],
 "metadata": {
  "kernelspec": {
   "display_name": "Python 3",
   "language": "python",
   "name": "python3"
  },
  "language_info": {
   "codemirror_mode": {
    "name": "ipython",
    "version": 3
   },
   "file_extension": ".py",
   "mimetype": "text/x-python",
   "name": "python",
   "nbconvert_exporter": "python",
   "pygments_lexer": "ipython3",
   "version": "3.7.3"
  }
 },
 "nbformat": 4,
 "nbformat_minor": 2
}
